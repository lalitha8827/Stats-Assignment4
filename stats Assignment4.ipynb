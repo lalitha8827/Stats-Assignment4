{
 "cells": [
  {
   "cell_type": "code",
   "execution_count": 6,
   "metadata": {},
   "outputs": [],
   "source": [
    "#1. Is gender independent of education level? A random sample of 395 people were surveyed and each person was asked to report \n",
    "#the highest education level they obtained. The data that resulted from the survey is summarized in the following table:\n",
    "#High School Bachelors Masters Ph.d. Total\n",
    "#Female 60 54 46 41 201\n",
    "#Male 40 44 53 57 194\n",
    "#Total 100 98 99 98 395\n",
    "#Are gender and education level dependent at 5% level of significance? In other words, given the data collected above, \n",
    "#is there a relationship between the gender of an individual and the level of education that they have obtained?"
   ]
  },
  {
   "cell_type": "code",
   "execution_count": 15,
   "metadata": {},
   "outputs": [
    {
     "data": {
      "text/html": [
       "<div>\n",
       "<style scoped>\n",
       "    .dataframe tbody tr th:only-of-type {\n",
       "        vertical-align: middle;\n",
       "    }\n",
       "\n",
       "    .dataframe tbody tr th {\n",
       "        vertical-align: top;\n",
       "    }\n",
       "\n",
       "    .dataframe thead th {\n",
       "        text-align: right;\n",
       "    }\n",
       "</style>\n",
       "<table border=\"1\" class=\"dataframe\">\n",
       "  <thead>\n",
       "    <tr style=\"text-align: right;\">\n",
       "      <th></th>\n",
       "      <th>Education</th>\n",
       "      <th>Marks</th>\n",
       "      <th>Sex</th>\n",
       "    </tr>\n",
       "  </thead>\n",
       "  <tbody>\n",
       "    <tr>\n",
       "      <th>0</th>\n",
       "      <td>Highschool</td>\n",
       "      <td>60</td>\n",
       "      <td>M</td>\n",
       "    </tr>\n",
       "    <tr>\n",
       "      <th>1</th>\n",
       "      <td>Bachelors</td>\n",
       "      <td>54</td>\n",
       "      <td>M</td>\n",
       "    </tr>\n",
       "    <tr>\n",
       "      <th>2</th>\n",
       "      <td>Masters</td>\n",
       "      <td>46</td>\n",
       "      <td>M</td>\n",
       "    </tr>\n",
       "    <tr>\n",
       "      <th>3</th>\n",
       "      <td>Phd</td>\n",
       "      <td>41</td>\n",
       "      <td>M</td>\n",
       "    </tr>\n",
       "    <tr>\n",
       "      <th>4</th>\n",
       "      <td>Highschool</td>\n",
       "      <td>40</td>\n",
       "      <td>F</td>\n",
       "    </tr>\n",
       "    <tr>\n",
       "      <th>5</th>\n",
       "      <td>Bachelors</td>\n",
       "      <td>44</td>\n",
       "      <td>F</td>\n",
       "    </tr>\n",
       "    <tr>\n",
       "      <th>6</th>\n",
       "      <td>Masters</td>\n",
       "      <td>53</td>\n",
       "      <td>F</td>\n",
       "    </tr>\n",
       "    <tr>\n",
       "      <th>7</th>\n",
       "      <td>Phd</td>\n",
       "      <td>57</td>\n",
       "      <td>F</td>\n",
       "    </tr>\n",
       "  </tbody>\n",
       "</table>\n",
       "</div>"
      ],
      "text/plain": [
       "    Education  Marks Sex\n",
       "0  Highschool     60   M\n",
       "1   Bachelors     54   M\n",
       "2     Masters     46   M\n",
       "3         Phd     41   M\n",
       "4  Highschool     40   F\n",
       "5   Bachelors     44   F\n",
       "6     Masters     53   F\n",
       "7         Phd     57   F"
      ]
     },
     "execution_count": 15,
     "metadata": {},
     "output_type": "execute_result"
    }
   ],
   "source": [
    "import pandas as pd\n",
    "import numpy as np\n",
    "import scipy.stats as stats\n",
    "#we have to perform Chi-Squared test of independence\n",
    "#H0:The two categorical variables are independent.\n",
    "#H1:The two categorical variables are dependent.\n",
    "female=[60,54,46,41]\n",
    "male=[40,44,53,57]\n",
    "Highschool=[60,40]\n",
    "Bachelors=[54,44]\n",
    "Masters=[46,53]\n",
    "Phd=[41,57]\n",
    "df=pd.DataFrame({\"Education\":['Highschool','Bachelors','Masters','Phd','Highschool','Bachelors','Masters','Phd'],\"Marks\":female+male,\"Sex\":['M','M','M','M','F','F','F','F']})\n",
    "df"
   ]
  },
  {
   "cell_type": "code",
   "execution_count": 18,
   "metadata": {},
   "outputs": [
    {
     "data": {
      "text/html": [
       "<div>\n",
       "<style scoped>\n",
       "    .dataframe tbody tr th:only-of-type {\n",
       "        vertical-align: middle;\n",
       "    }\n",
       "\n",
       "    .dataframe tbody tr th {\n",
       "        vertical-align: top;\n",
       "    }\n",
       "\n",
       "    .dataframe thead th {\n",
       "        text-align: right;\n",
       "    }\n",
       "</style>\n",
       "<table border=\"1\" class=\"dataframe\">\n",
       "  <thead>\n",
       "    <tr style=\"text-align: right;\">\n",
       "      <th>Education</th>\n",
       "      <th>Bachelors</th>\n",
       "      <th>Highschool</th>\n",
       "      <th>Masters</th>\n",
       "      <th>Phd</th>\n",
       "      <th>All</th>\n",
       "    </tr>\n",
       "    <tr>\n",
       "      <th>Sex</th>\n",
       "      <th></th>\n",
       "      <th></th>\n",
       "      <th></th>\n",
       "      <th></th>\n",
       "      <th></th>\n",
       "    </tr>\n",
       "  </thead>\n",
       "  <tbody>\n",
       "    <tr>\n",
       "      <th>F</th>\n",
       "      <td>44</td>\n",
       "      <td>40</td>\n",
       "      <td>53</td>\n",
       "      <td>57</td>\n",
       "      <td>194</td>\n",
       "    </tr>\n",
       "    <tr>\n",
       "      <th>M</th>\n",
       "      <td>54</td>\n",
       "      <td>60</td>\n",
       "      <td>46</td>\n",
       "      <td>41</td>\n",
       "      <td>201</td>\n",
       "    </tr>\n",
       "    <tr>\n",
       "      <th>All</th>\n",
       "      <td>98</td>\n",
       "      <td>100</td>\n",
       "      <td>99</td>\n",
       "      <td>98</td>\n",
       "      <td>395</td>\n",
       "    </tr>\n",
       "  </tbody>\n",
       "</table>\n",
       "</div>"
      ],
      "text/plain": [
       "Education  Bachelors  Highschool  Masters  Phd  All\n",
       "Sex                                                \n",
       "F                 44          40       53   57  194\n",
       "M                 54          60       46   41  201\n",
       "All               98         100       99   98  395"
      ]
     },
     "execution_count": 18,
     "metadata": {},
     "output_type": "execute_result"
    }
   ],
   "source": [
    "df1= pd.crosstab(df.Sex,df.Education,df.Marks,aggfunc=\"sum\",margins=True)\n",
    "df1"
   ]
  },
  {
   "cell_type": "code",
   "execution_count": 49,
   "metadata": {},
   "outputs": [
    {
     "data": {
      "text/html": [
       "<div>\n",
       "<style scoped>\n",
       "    .dataframe tbody tr th:only-of-type {\n",
       "        vertical-align: middle;\n",
       "    }\n",
       "\n",
       "    .dataframe tbody tr th {\n",
       "        vertical-align: top;\n",
       "    }\n",
       "\n",
       "    .dataframe thead th {\n",
       "        text-align: right;\n",
       "    }\n",
       "</style>\n",
       "<table border=\"1\" class=\"dataframe\">\n",
       "  <thead>\n",
       "    <tr style=\"text-align: right;\">\n",
       "      <th></th>\n",
       "      <th>Bachelors</th>\n",
       "      <th>Highschool</th>\n",
       "      <th>Masters</th>\n",
       "      <th>Phd</th>\n",
       "      <th>gender_Total</th>\n",
       "    </tr>\n",
       "  </thead>\n",
       "  <tbody>\n",
       "    <tr>\n",
       "      <th>F</th>\n",
       "      <td>44</td>\n",
       "      <td>40</td>\n",
       "      <td>53</td>\n",
       "      <td>57</td>\n",
       "      <td>194</td>\n",
       "    </tr>\n",
       "    <tr>\n",
       "      <th>M</th>\n",
       "      <td>54</td>\n",
       "      <td>60</td>\n",
       "      <td>46</td>\n",
       "      <td>41</td>\n",
       "      <td>201</td>\n",
       "    </tr>\n",
       "    <tr>\n",
       "      <th>total</th>\n",
       "      <td>98</td>\n",
       "      <td>100</td>\n",
       "      <td>99</td>\n",
       "      <td>98</td>\n",
       "      <td>395</td>\n",
       "    </tr>\n",
       "  </tbody>\n",
       "</table>\n",
       "</div>"
      ],
      "text/plain": [
       "       Bachelors  Highschool  Masters  Phd  gender_Total\n",
       "F             44          40       53   57           194\n",
       "M             54          60       46   41           201\n",
       "total         98         100       99   98           395"
      ]
     },
     "execution_count": 49,
     "metadata": {},
     "output_type": "execute_result"
    }
   ],
   "source": [
    "df1.columns=['Bachelors','Highschool','Masters','Phd','gender_Total']\n",
    "df1.index=['F','M','total']\n",
    "df1"
   ]
  },
  {
   "cell_type": "code",
   "execution_count": 53,
   "metadata": {},
   "outputs": [
    {
     "data": {
      "text/html": [
       "<div>\n",
       "<style scoped>\n",
       "    .dataframe tbody tr th:only-of-type {\n",
       "        vertical-align: middle;\n",
       "    }\n",
       "\n",
       "    .dataframe tbody tr th {\n",
       "        vertical-align: top;\n",
       "    }\n",
       "\n",
       "    .dataframe thead th {\n",
       "        text-align: right;\n",
       "    }\n",
       "</style>\n",
       "<table border=\"1\" class=\"dataframe\">\n",
       "  <thead>\n",
       "    <tr style=\"text-align: right;\">\n",
       "      <th></th>\n",
       "      <th>Bachelors</th>\n",
       "      <th>Highschool</th>\n",
       "      <th>Masters</th>\n",
       "      <th>Phd</th>\n",
       "    </tr>\n",
       "  </thead>\n",
       "  <tbody>\n",
       "    <tr>\n",
       "      <th>F</th>\n",
       "      <td>44</td>\n",
       "      <td>40</td>\n",
       "      <td>53</td>\n",
       "      <td>57</td>\n",
       "    </tr>\n",
       "    <tr>\n",
       "      <th>M</th>\n",
       "      <td>54</td>\n",
       "      <td>60</td>\n",
       "      <td>46</td>\n",
       "      <td>41</td>\n",
       "    </tr>\n",
       "  </tbody>\n",
       "</table>\n",
       "</div>"
      ],
      "text/plain": [
       "   Bachelors  Highschool  Masters  Phd\n",
       "F         44          40       53   57\n",
       "M         54          60       46   41"
      ]
     },
     "execution_count": 53,
     "metadata": {},
     "output_type": "execute_result"
    }
   ],
   "source": [
    "#this is the dataframe of observed values\n",
    "df2=df1.iloc[:2,:4]\n",
    "df2"
   ]
  },
  {
   "cell_type": "code",
   "execution_count": 54,
   "metadata": {},
   "outputs": [
    {
     "data": {
      "text/html": [
       "<div>\n",
       "<style scoped>\n",
       "    .dataframe tbody tr th:only-of-type {\n",
       "        vertical-align: middle;\n",
       "    }\n",
       "\n",
       "    .dataframe tbody tr th {\n",
       "        vertical-align: top;\n",
       "    }\n",
       "\n",
       "    .dataframe thead th {\n",
       "        text-align: right;\n",
       "    }\n",
       "</style>\n",
       "<table border=\"1\" class=\"dataframe\">\n",
       "  <thead>\n",
       "    <tr style=\"text-align: right;\">\n",
       "      <th></th>\n",
       "      <th>Bachelors</th>\n",
       "      <th>Highschool</th>\n",
       "      <th>Masters</th>\n",
       "      <th>Phd</th>\n",
       "    </tr>\n",
       "  </thead>\n",
       "  <tbody>\n",
       "    <tr>\n",
       "      <th>F</th>\n",
       "      <td>48.131646</td>\n",
       "      <td>49.113924</td>\n",
       "      <td>48.622785</td>\n",
       "      <td>48.131646</td>\n",
       "    </tr>\n",
       "    <tr>\n",
       "      <th>M</th>\n",
       "      <td>49.868354</td>\n",
       "      <td>50.886076</td>\n",
       "      <td>50.377215</td>\n",
       "      <td>49.868354</td>\n",
       "    </tr>\n",
       "  </tbody>\n",
       "</table>\n",
       "</div>"
      ],
      "text/plain": [
       "   Bachelors  Highschool    Masters        Phd\n",
       "F  48.131646   49.113924  48.622785  48.131646\n",
       "M  49.868354   50.886076  50.377215  49.868354"
      ]
     },
     "execution_count": 54,
     "metadata": {},
     "output_type": "execute_result"
    }
   ],
   "source": [
    "#this is the dataframe of expected values \n",
    "#we get expected value from the formula (grand_total*total/sample size)\n",
    "df3=np.outer(df1[\"gender_Total\"][0:2],df1.loc[\"total\"][0:4]) / 395.0\n",
    "df3=pd.DataFrame(DF3)\n",
    "df3.index=[\"F\",\"M\"]\n",
    "df3.columns=['Bachelors','Highschool','Masters','Phd']\n",
    "df3"
   ]
  },
  {
   "cell_type": "code",
   "execution_count": 58,
   "metadata": {},
   "outputs": [
    {
     "name": "stdout",
     "output_type": "stream",
     "text": [
      "8.006066246262538\n"
     ]
    }
   ],
   "source": [
    "#we have to perform chi-squared value \n",
    "#chi_squared X2=sigma(((observed-expected)**2)/expected)\n",
    "chi_squared=(((df3-df2)**2)/df3).sum().sum()\n",
    "print(chi_squared)"
   ]
  },
  {
   "cell_type": "code",
   "execution_count": 63,
   "metadata": {},
   "outputs": [
    {
     "name": "stdout",
     "output_type": "stream",
     "text": [
      "Degree of freedom : 3\n",
      "From chi_squared table ,critical value of chi_square with degree of freedom 3 is 7.815\n",
      "Since 8.006 > 7.815 it falls in critical region,so we reject null hypothesis and say that that the level of education depends on gender at a 5% significance level\n"
     ]
    }
   ],
   "source": [
    "#given level of significance is 5%\n",
    "print(\"Degree of freedom : 3\")\n",
    "print(\"From chi_squared table ,critical value of chi_square with degree of freedom 3 is 7.815\")\n",
    "print(\"Since 8.006 > 7.815 it falls in critical region,so we reject null hypothesis and say that that the level of education depends on gender at a 5% significance level\")"
   ]
  },
  {
   "cell_type": "code",
   "execution_count": null,
   "metadata": {},
   "outputs": [],
   "source": []
  },
  {
   "cell_type": "code",
   "execution_count": null,
   "metadata": {},
   "outputs": [],
   "source": []
  },
  {
   "cell_type": "code",
   "execution_count": null,
   "metadata": {},
   "outputs": [],
   "source": []
  },
  {
   "cell_type": "markdown",
   "metadata": {},
   "source": [
    "# 2.Using the following data, perform a oneway analysis of variance using α=.05. Write up the results in APA format.\n",
    "\n",
    "[Group1: 51, 45, 33, 45, 67]\n",
    "[Group2: 23, 43, 23, 43, 45]\n",
    "[Group3: 56, 76, 74, 87, 56]"
   ]
  },
  {
   "cell_type": "code",
   "execution_count": 11,
   "metadata": {},
   "outputs": [
    {
     "name": "stdout",
     "output_type": "stream",
     "text": [
      "F-value : 9.747205503009463  and  pvalue : 0.0030597541434430556\n",
      "True beacause pvalue returned is less than 0.05\n",
      "After performing anova test we came to know that groups have different sample means since pvalue is significant at 99% confidence interval.\n"
     ]
    }
   ],
   "source": [
    "import scipy.stats as stats\n",
    "Group1=[51, 45, 33, 45, 67]\n",
    "Group2=[23, 43, 23, 43, 45]\n",
    "Group3=[56, 76, 74, 87, 56]\n",
    "statistic,pvalue=stats.f_oneway(Group1,Group2,Group3)\n",
    "print(\"F-value :\",statistic,\" and  pvalue :\",pvalue)\n",
    "alpha=0.05\n",
    "#given alpha=0.05\n",
    "#so if pvalue is less than alpha value it is critical region,so we have to reject null hypothesis\n",
    "if pvalue<alpha:\n",
    "    print('True beacause pvalue returned is less than 0.05')\n",
    "else:\n",
    "    print('False')\n",
    "print(\"After performing anova test we came to know that groups have different sample means since pvalue is significant at 99% confidence interval.\")"
   ]
  },
  {
   "cell_type": "code",
   "execution_count": null,
   "metadata": {},
   "outputs": [],
   "source": []
  },
  {
   "cell_type": "markdown",
   "metadata": {},
   "source": [
    "# 3.Calculate F Test for given 10, 20, 30, 40, 50 and 5,10,15, 20, 25."
   ]
  },
  {
   "cell_type": "code",
   "execution_count": 10,
   "metadata": {},
   "outputs": [
    {
     "name": "stdout",
     "output_type": "stream",
     "text": [
      "F Test for given 10, 20, 30, 40, 50 and 5,10,15, 20, 25 : 4.0\n"
     ]
    }
   ],
   "source": [
    "import numpy as np\n",
    "data_setA=np.array([10, 20, 30, 40, 50])\n",
    "data_setB=np.array([5,10,15, 20, 25])\n",
    "degree_of_freedomA=data_setA.size-1\n",
    "degree_of_freedomB=data_setB.size-1\n",
    "VarianceA=np.var(data_setA)\n",
    "VarianceB=np.var(data_setB)\n",
    "f_value=VarianceA/VarianceB\n",
    "print(\"F Test for given 10, 20, 30, 40, 50 and 5,10,15, 20, 25 :\",f_value)"
   ]
  },
  {
   "cell_type": "code",
   "execution_count": null,
   "metadata": {},
   "outputs": [],
   "source": []
  },
  {
   "cell_type": "code",
   "execution_count": null,
   "metadata": {},
   "outputs": [],
   "source": []
  }
 ],
 "metadata": {
  "kernelspec": {
   "display_name": "Python 3",
   "language": "python",
   "name": "python3"
  },
  "language_info": {
   "codemirror_mode": {
    "name": "ipython",
    "version": 3
   },
   "file_extension": ".py",
   "mimetype": "text/x-python",
   "name": "python",
   "nbconvert_exporter": "python",
   "pygments_lexer": "ipython3",
   "version": "3.7.6"
  }
 },
 "nbformat": 4,
 "nbformat_minor": 4
}
